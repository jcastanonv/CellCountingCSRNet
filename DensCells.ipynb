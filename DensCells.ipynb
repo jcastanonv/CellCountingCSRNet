{
  "nbformat": 4,
  "nbformat_minor": 0,
  "metadata": {
    "colab": {
      "name": "DensCells.ipynb",
      "provenance": [],
      "collapsed_sections": [],
      "authorship_tag": "ABX9TyMSS2KoAHwLMh0J31r1boV5",
      "include_colab_link": true
    },
    "kernelspec": {
      "name": "python3",
      "display_name": "Python 3"
    }
  },
  "cells": [
    {
      "cell_type": "markdown",
      "metadata": {
        "id": "view-in-github",
        "colab_type": "text"
      },
      "source": [
        "<a href=\"https://colab.research.google.com/github/jcastanonv/CellCountingCSRNet/blob/main/DensCells.ipynb\" target=\"_parent\"><img src=\"https://colab.research.google.com/assets/colab-badge.svg\" alt=\"Open In Colab\"/></a>"
      ]
    },
    {
      "cell_type": "code",
      "metadata": {
        "id": "4UGmXpPzGJ_Y",
        "colab": {
          "base_uri": "https://localhost:8080/",
          "height": 35
        },
        "outputId": "65fb8fe0-44a9-49a7-b674-e8da3580da5f"
      },
      "source": [
        "%pwd"
      ],
      "execution_count": 1,
      "outputs": [
        {
          "output_type": "execute_result",
          "data": {
            "application/vnd.google.colaboratory.intrinsic+json": {
              "type": "string"
            },
            "text/plain": [
              "'/content'"
            ]
          },
          "metadata": {
            "tags": []
          },
          "execution_count": 1
        }
      ]
    },
    {
      "cell_type": "code",
      "metadata": {
        "colab": {
          "base_uri": "https://localhost:8080/"
        },
        "id": "WR3DQIPHGpGy",
        "outputId": "cd5b96d9-6735-49df-a618-0af7ecb5fa43"
      },
      "source": [
        "!git clone https://github.com/jcastanonv/CellCountingCSRNet.git"
      ],
      "execution_count": 2,
      "outputs": [
        {
          "output_type": "stream",
          "text": [
            "Cloning into 'CellCountingCSRNet'...\n",
            "warning: You appear to have cloned an empty repository.\n"
          ],
          "name": "stdout"
        }
      ]
    },
    {
      "cell_type": "code",
      "metadata": {
        "colab": {
          "base_uri": "https://localhost:8080/"
        },
        "id": "cCAX8RGpGwM3",
        "outputId": "82f54b4e-35aa-49a6-8e47-fdf0fc566121"
      },
      "source": [
        "!git init"
      ],
      "execution_count": 3,
      "outputs": [
        {
          "output_type": "stream",
          "text": [
            "Initialized empty Git repository in /content/.git/\n"
          ],
          "name": "stdout"
        }
      ]
    },
    {
      "cell_type": "code",
      "metadata": {
        "colab": {
          "base_uri": "https://localhost:8080/"
        },
        "id": "znC2dXrFG2JG",
        "outputId": "24c7022d-438b-4073-e2e0-bdff35e43d5e"
      },
      "source": [
        "!git config — global user.email “joaquin235@hotmail.com”\n",
        "!git config — global user.name “jcastanonv”"
      ],
      "execution_count": 4,
      "outputs": [
        {
          "output_type": "stream",
          "text": [
            "usage: git config [<options>]\n",
            "\n",
            "Config file location\n",
            "    --global              use global config file\n",
            "    --system              use system config file\n",
            "    --local               use repository config file\n",
            "    -f, --file <file>     use given config file\n",
            "    --blob <blob-id>      read config from given blob object\n",
            "\n",
            "Action\n",
            "    --get                 get value: name [value-regex]\n",
            "    --get-all             get all values: key [value-regex]\n",
            "    --get-regexp          get values for regexp: name-regex [value-regex]\n",
            "    --get-urlmatch        get value specific for the URL: section[.var] URL\n",
            "    --replace-all         replace all matching variables: name value [value_regex]\n",
            "    --add                 add a new variable: name value\n",
            "    --unset               remove a variable: name [value-regex]\n",
            "    --unset-all           remove all matches: name [value-regex]\n",
            "    --rename-section      rename section: old-name new-name\n",
            "    --remove-section      remove a section: name\n",
            "    -l, --list            list all\n",
            "    -e, --edit            open an editor\n",
            "    --get-color           find the color configured: slot [default]\n",
            "    --get-colorbool       find the color setting: slot [stdout-is-tty]\n",
            "\n",
            "Type\n",
            "    --bool                value is \"true\" or \"false\"\n",
            "    --int                 value is decimal number\n",
            "    --bool-or-int         value is --bool or --int\n",
            "    --path                value is a path (file or directory name)\n",
            "    --expiry-date         value is an expiry date\n",
            "\n",
            "Other\n",
            "    -z, --null            terminate values with NUL byte\n",
            "    --name-only           show variable names only\n",
            "    --includes            respect include directives on lookup\n",
            "    --show-origin         show origin of config (file, standard input, blob, command line)\n",
            "\n",
            "usage: git config [<options>]\n",
            "\n",
            "Config file location\n",
            "    --global              use global config file\n",
            "    --system              use system config file\n",
            "    --local               use repository config file\n",
            "    -f, --file <file>     use given config file\n",
            "    --blob <blob-id>      read config from given blob object\n",
            "\n",
            "Action\n",
            "    --get                 get value: name [value-regex]\n",
            "    --get-all             get all values: key [value-regex]\n",
            "    --get-regexp          get values for regexp: name-regex [value-regex]\n",
            "    --get-urlmatch        get value specific for the URL: section[.var] URL\n",
            "    --replace-all         replace all matching variables: name value [value_regex]\n",
            "    --add                 add a new variable: name value\n",
            "    --unset               remove a variable: name [value-regex]\n",
            "    --unset-all           remove all matches: name [value-regex]\n",
            "    --rename-section      rename section: old-name new-name\n",
            "    --remove-section      remove a section: name\n",
            "    -l, --list            list all\n",
            "    -e, --edit            open an editor\n",
            "    --get-color           find the color configured: slot [default]\n",
            "    --get-colorbool       find the color setting: slot [stdout-is-tty]\n",
            "\n",
            "Type\n",
            "    --bool                value is \"true\" or \"false\"\n",
            "    --int                 value is decimal number\n",
            "    --bool-or-int         value is --bool or --int\n",
            "    --path                value is a path (file or directory name)\n",
            "    --expiry-date         value is an expiry date\n",
            "\n",
            "Other\n",
            "    -z, --null            terminate values with NUL byte\n",
            "    --name-only           show variable names only\n",
            "    --includes            respect include directives on lookup\n",
            "    --show-origin         show origin of config (file, standard input, blob, command line)\n",
            "\n"
          ],
          "name": "stdout"
        }
      ]
    },
    {
      "cell_type": "code",
      "metadata": {
        "colab": {
          "base_uri": "https://localhost:8080/"
        },
        "id": "yheMMYhjHNJQ",
        "outputId": "03d8935b-d7d1-4769-e0ac-6d76119f1a6c"
      },
      "source": [
        "print('HOLA')"
      ],
      "execution_count": 10,
      "outputs": [
        {
          "output_type": "stream",
          "text": [
            "HOLA\n"
          ],
          "name": "stdout"
        }
      ]
    },
    {
      "cell_type": "code",
      "metadata": {
        "id": "kjll0LMaHm69"
      },
      "source": [
        ""
      ],
      "execution_count": null,
      "outputs": []
    }
  ]
}